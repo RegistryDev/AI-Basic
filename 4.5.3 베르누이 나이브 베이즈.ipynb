{
  "nbformat": 4,
  "nbformat_minor": 0,
  "metadata": {
    "colab": {
      "name": "4.5.3 베르누이 나이브 베이즈.ipynb",
      "provenance": [],
      "collapsed_sections": [],
      "authorship_tag": "ABX9TyMrVaNkWs6HIe+BImD595ib",
      "include_colab_link": true
    },
    "kernelspec": {
      "name": "python3",
      "display_name": "Python 3"
    },
    "language_info": {
      "name": "python"
    }
  },
  "cells": [
    {
      "cell_type": "markdown",
      "metadata": {
        "id": "view-in-github",
        "colab_type": "text"
      },
      "source": [
        "<a href=\"https://colab.research.google.com/github/RegistryDev/AI-Basic/blob/master/4.5.3%20%EB%B2%A0%EB%A5%B4%EB%88%84%EC%9D%B4%20%EB%82%98%EC%9D%B4%EB%B8%8C%20%EB%B2%A0%EC%9D%B4%EC%A6%88.ipynb\" target=\"_parent\"><img src=\"https://colab.research.google.com/assets/colab-badge.svg\" alt=\"Open In Colab\"/></a>"
      ]
    },
    {
      "cell_type": "markdown",
      "metadata": {
        "id": "noWhBEna8nCO"
      },
      "source": [
        "# 4.5.3 베르누이 나이브 베이즈를 활용한 스팸 메일 분류"
      ]
    },
    {
      "cell_type": "markdown",
      "metadata": {
        "id": "ObKAG9Ab9VQ-"
      },
      "source": [
        "### 라이브러리 임포트"
      ]
    },
    {
      "cell_type": "code",
      "metadata": {
        "id": "Dkz0eIVj7ed_"
      },
      "source": [
        "import pandas as pd\n",
        "\n",
        "# 베르누이 나이브 베이즈를 위한 임포트\n",
        "from sklearn.feature_extraction.text import CountVectorizer\n",
        "from sklearn.naive_bayes import BernoulliNB\n",
        "\n",
        "# 모델의 정확도 평가를 위해 임포트\n",
        "from sklearn.metrics import accuracy_score"
      ],
      "execution_count": null,
      "outputs": []
    },
    {
      "cell_type": "markdown",
      "metadata": {
        "id": "DNIub9rS9St2"
      },
      "source": [
        "### 데이터 획득"
      ]
    },
    {
      "cell_type": "code",
      "metadata": {
        "colab": {
          "base_uri": "https://localhost:8080/",
          "height": 235
        },
        "id": "WnwT8sdw8zYR",
        "outputId": "4e669d84-2632-4ac5-962e-078f118e229b"
      },
      "source": [
        "email_list = [\n",
        "    {'email title': 'free game only today', 'spam': True},\n",
        "    {'email title': 'cheapest flight deal', 'spam': True},\n",
        "    {'email title': 'limited time offer only today only today', 'spam': True},\n",
        "    {'email title': 'today meeting schedule', 'spam': False},\n",
        "    {'email title': 'your flight schedule attached', 'spam': False},\n",
        "    {'email title': 'your credit card statement', 'spam': False} \n",
        "]\n",
        "\n",
        "df = pd.DataFrame(email_list)\n",
        "df"
      ],
      "execution_count": null,
      "outputs": [
        {
          "output_type": "execute_result",
          "data": {
            "text/html": [
              "<div>\n",
              "<style scoped>\n",
              "    .dataframe tbody tr th:only-of-type {\n",
              "        vertical-align: middle;\n",
              "    }\n",
              "\n",
              "    .dataframe tbody tr th {\n",
              "        vertical-align: top;\n",
              "    }\n",
              "\n",
              "    .dataframe thead th {\n",
              "        text-align: right;\n",
              "    }\n",
              "</style>\n",
              "<table border=\"1\" class=\"dataframe\">\n",
              "  <thead>\n",
              "    <tr style=\"text-align: right;\">\n",
              "      <th></th>\n",
              "      <th>email title</th>\n",
              "      <th>spam</th>\n",
              "    </tr>\n",
              "  </thead>\n",
              "  <tbody>\n",
              "    <tr>\n",
              "      <th>0</th>\n",
              "      <td>free game only today</td>\n",
              "      <td>True</td>\n",
              "    </tr>\n",
              "    <tr>\n",
              "      <th>1</th>\n",
              "      <td>cheapest flight deal</td>\n",
              "      <td>True</td>\n",
              "    </tr>\n",
              "    <tr>\n",
              "      <th>2</th>\n",
              "      <td>limited time offer only today only today</td>\n",
              "      <td>True</td>\n",
              "    </tr>\n",
              "    <tr>\n",
              "      <th>3</th>\n",
              "      <td>today meeting schedule</td>\n",
              "      <td>False</td>\n",
              "    </tr>\n",
              "    <tr>\n",
              "      <th>4</th>\n",
              "      <td>your flight schedule attached</td>\n",
              "      <td>False</td>\n",
              "    </tr>\n",
              "    <tr>\n",
              "      <th>5</th>\n",
              "      <td>your credit card statement</td>\n",
              "      <td>False</td>\n",
              "    </tr>\n",
              "  </tbody>\n",
              "</table>\n",
              "</div>"
            ],
            "text/plain": [
              "                                email title   spam\n",
              "0                      free game only today   True\n",
              "1                      cheapest flight deal   True\n",
              "2  limited time offer only today only today   True\n",
              "3                    today meeting schedule  False\n",
              "4             your flight schedule attached  False\n",
              "5                your credit card statement  False"
            ]
          },
          "metadata": {
            "tags": []
          },
          "execution_count": 3
        }
      ]
    },
    {
      "cell_type": "markdown",
      "metadata": {
        "id": "zRwTMjsc9aQW"
      },
      "source": [
        "### 데이터 다듬기"
      ]
    },
    {
      "cell_type": "code",
      "metadata": {
        "colab": {
          "base_uri": "https://localhost:8080/",
          "height": 235
        },
        "id": "1co3yK4L9cdc",
        "outputId": "1937b6d6-92f7-41e4-9686-afe29925c516"
      },
      "source": [
        "# sklearn의 베르누이 나이브 베이즈 분류기는 숫자만 다루기 때문에 먼저 출력(레이블)을 숫자로 변환\n",
        "df['label'] = df['spam'].map({True: 1, False: 0})\n",
        "df"
      ],
      "execution_count": null,
      "outputs": [
        {
          "output_type": "execute_result",
          "data": {
            "text/html": [
              "<div>\n",
              "<style scoped>\n",
              "    .dataframe tbody tr th:only-of-type {\n",
              "        vertical-align: middle;\n",
              "    }\n",
              "\n",
              "    .dataframe tbody tr th {\n",
              "        vertical-align: top;\n",
              "    }\n",
              "\n",
              "    .dataframe thead th {\n",
              "        text-align: right;\n",
              "    }\n",
              "</style>\n",
              "<table border=\"1\" class=\"dataframe\">\n",
              "  <thead>\n",
              "    <tr style=\"text-align: right;\">\n",
              "      <th></th>\n",
              "      <th>email title</th>\n",
              "      <th>spam</th>\n",
              "      <th>label</th>\n",
              "    </tr>\n",
              "  </thead>\n",
              "  <tbody>\n",
              "    <tr>\n",
              "      <th>0</th>\n",
              "      <td>free game only today</td>\n",
              "      <td>True</td>\n",
              "      <td>1</td>\n",
              "    </tr>\n",
              "    <tr>\n",
              "      <th>1</th>\n",
              "      <td>cheapest flight deal</td>\n",
              "      <td>True</td>\n",
              "      <td>1</td>\n",
              "    </tr>\n",
              "    <tr>\n",
              "      <th>2</th>\n",
              "      <td>limited time offer only today only today</td>\n",
              "      <td>True</td>\n",
              "      <td>1</td>\n",
              "    </tr>\n",
              "    <tr>\n",
              "      <th>3</th>\n",
              "      <td>today meeting schedule</td>\n",
              "      <td>False</td>\n",
              "      <td>0</td>\n",
              "    </tr>\n",
              "    <tr>\n",
              "      <th>4</th>\n",
              "      <td>your flight schedule attached</td>\n",
              "      <td>False</td>\n",
              "      <td>0</td>\n",
              "    </tr>\n",
              "    <tr>\n",
              "      <th>5</th>\n",
              "      <td>your credit card statement</td>\n",
              "      <td>False</td>\n",
              "      <td>0</td>\n",
              "    </tr>\n",
              "  </tbody>\n",
              "</table>\n",
              "</div>"
            ],
            "text/plain": [
              "                                email title   spam  label\n",
              "0                      free game only today   True      1\n",
              "1                      cheapest flight deal   True      1\n",
              "2  limited time offer only today only today   True      1\n",
              "3                    today meeting schedule  False      0\n",
              "4             your flight schedule attached  False      0\n",
              "5                your credit card statement  False      0"
            ]
          },
          "metadata": {
            "tags": []
          },
          "execution_count": 4
        }
      ]
    },
    {
      "cell_type": "code",
      "metadata": {
        "id": "Q_MhbJck-UEF"
      },
      "source": [
        "# 학습에 사용될 데이터의 분류값 나누기\n",
        "df_x=df['email title']\n",
        "df_y=df['label']"
      ],
      "execution_count": null,
      "outputs": []
    },
    {
      "cell_type": "code",
      "metadata": {
        "id": "slmRHRw0-gXv"
      },
      "source": [
        "# 베르누이 나이브 베이즈 분류기의 입력 데이터(이메일 제목)는 고정된 크기의 벡터여야함.\n",
        "# 입력 데이터를 모두 고정 길이로 만들기\n",
        "cv = CountVectorizer(binary=True)                                               # binary가 True이면 출현 여부(1, 0)만 판별\n",
        "x_traincv = cv.fit_transform(df_x)                                              # fit_transform -> fit(단어 학습) + transform"
      ],
      "execution_count": null,
      "outputs": []
    },
    {
      "cell_type": "code",
      "metadata": {
        "colab": {
          "base_uri": "https://localhost:8080/"
        },
        "id": "UWox1ftB_TP3",
        "outputId": "bcb4ec67-c85a-4299-84e6-95a98f627b58"
      },
      "source": [
        "# 전체 고정 벡터 인덱스의 단어 출력 (총 17개) 확인\n",
        "cv.get_feature_names()\n",
        "# a, b, c, d, … 순서대로 정렬됨"
      ],
      "execution_count": null,
      "outputs": [
        {
          "output_type": "execute_result",
          "data": {
            "text/plain": [
              "['attached',\n",
              " 'card',\n",
              " 'cheapest',\n",
              " 'credit',\n",
              " 'deal',\n",
              " 'flight',\n",
              " 'free',\n",
              " 'game',\n",
              " 'limited',\n",
              " 'meeting',\n",
              " 'offer',\n",
              " 'only',\n",
              " 'schedule',\n",
              " 'statement',\n",
              " 'time',\n",
              " 'today',\n",
              " 'your']"
            ]
          },
          "metadata": {
            "tags": []
          },
          "execution_count": 7
        }
      ]
    },
    {
      "cell_type": "code",
      "metadata": {
        "colab": {
          "base_uri": "https://localhost:8080/"
        },
        "id": "bh0s2Xc5BBcr",
        "outputId": "4252b6f4-21bf-4e56-d471-990c3995adf3"
      },
      "source": [
        "# 이메일 제목들의 인코딩 벡터 확인\n",
        "encoded_input=x_traincv.toarray()\n",
        "encoded_input"
      ],
      "execution_count": null,
      "outputs": [
        {
          "output_type": "execute_result",
          "data": {
            "text/plain": [
              "array([[0, 0, 0, 0, 0, 0, 1, 1, 0, 0, 0, 1, 0, 0, 0, 1, 0],\n",
              "       [0, 0, 1, 0, 1, 1, 0, 0, 0, 0, 0, 0, 0, 0, 0, 0, 0],\n",
              "       [0, 0, 0, 0, 0, 0, 0, 0, 1, 0, 1, 1, 0, 0, 1, 1, 0],\n",
              "       [0, 0, 0, 0, 0, 0, 0, 0, 0, 1, 0, 0, 1, 0, 0, 1, 0],\n",
              "       [1, 0, 0, 0, 0, 1, 0, 0, 0, 0, 0, 0, 1, 0, 0, 0, 1],\n",
              "       [0, 1, 0, 1, 0, 0, 0, 0, 0, 0, 0, 0, 0, 1, 0, 0, 1]])"
            ]
          },
          "metadata": {
            "tags": []
          },
          "execution_count": 8
        }
      ]
    },
    {
      "cell_type": "code",
      "metadata": {
        "colab": {
          "base_uri": "https://localhost:8080/"
        },
        "id": "6F6oldMPBEH4",
        "outputId": "59ac70be-5bcc-4c27-fb9a-61ea9273ea2e"
      },
      "source": [
        "# 첫 번째 이메일 제목의 고정된 벡터에 포함된 단어 확인\n",
        "cv.inverse_transform(encoded_input[0])"
      ],
      "execution_count": null,
      "outputs": [
        {
          "output_type": "execute_result",
          "data": {
            "text/plain": [
              "[array(['free', 'game', 'only', 'today'], dtype='<U9')]"
            ]
          },
          "metadata": {
            "tags": []
          },
          "execution_count": 9
        }
      ]
    },
    {
      "cell_type": "markdown",
      "metadata": {
        "id": "JyBX1n1jCqkh"
      },
      "source": [
        "### Bernoulli Naive Bayes 모델 학습"
      ]
    },
    {
      "cell_type": "code",
      "metadata": {
        "colab": {
          "base_uri": "https://localhost:8080/"
        },
        "id": "T9ofyJ2IC750",
        "outputId": "37cd20ad-fd49-470e-e910-656face8550a"
      },
      "source": [
        "# 학습 데이터로 베르누이 나이브 베이즈 분류기 학습\n",
        "# sklearn의 베르누이 나이브 베이즈는 스무딩을 기본 지원함\n",
        "bnb = BernoulliNB()\n",
        "bnb.fit(x_traincv, df_y)"
      ],
      "execution_count": null,
      "outputs": [
        {
          "output_type": "execute_result",
          "data": {
            "text/plain": [
              "BernoulliNB(alpha=1.0, binarize=0.0, class_prior=None, fit_prior=True)"
            ]
          },
          "metadata": {
            "tags": []
          },
          "execution_count": 10
        }
      ]
    },
    {
      "cell_type": "markdown",
      "metadata": {
        "id": "cbV9wZMBDWRl"
      },
      "source": [
        "### 테스트 데이터 다듬기"
      ]
    },
    {
      "cell_type": "code",
      "metadata": {
        "id": "-cIVhyd8DZCE"
      },
      "source": [
        "test_email_list = [\n",
        "    {'email title': 'free flight offer', 'spam': True},\n",
        "    {'email title': 'hey traveler free flight deal', 'spam': True},\n",
        "    {'email title': 'limited free game offer', 'spam': True},\n",
        "    {'email title': 'today flight schedule', 'spam': False},\n",
        "    {'email title': 'your credit card attached', 'spam': False},\n",
        "    {'email title': 'free credit card offer only today', 'spam': False} \n",
        "]\n",
        "\n",
        "test_df = pd.DataFrame(test_email_list)\n",
        "test_df['label'] = test_df['spam'].map({True:1,False:0})\n",
        "test_x=test_df[\"email title\"]\n",
        "test_y=test_df[\"label\"]\n",
        "x_testcv=cv.transform(test_x)                                                   # 고정 크기 벡터로 변환\n",
        "                                                                                # cv.fit_transform이 아님. 상단 고정 길이 벡터 작성 시 이미 fit(단어 학습)을 했기 때문"
      ],
      "execution_count": null,
      "outputs": []
    },
    {
      "cell_type": "markdown",
      "metadata": {
        "id": "46S35F-gEIon"
      },
      "source": [
        "### 테스트 진행"
      ]
    },
    {
      "cell_type": "code",
      "metadata": {
        "colab": {
          "base_uri": "https://localhost:8080/"
        },
        "id": "jFn7fnLzEHqy",
        "outputId": "121423c6-873b-4f02-ff94-2bf43bf842ea"
      },
      "source": [
        "# 테스트 데이터에 대해 예측 실행\n",
        "predictions = bnb.predict(x_testcv)\n",
        "predictions"
      ],
      "execution_count": null,
      "outputs": [
        {
          "output_type": "execute_result",
          "data": {
            "text/plain": [
              "array([1, 1, 1, 0, 0, 1])"
            ]
          },
          "metadata": {
            "tags": []
          },
          "execution_count": 12
        }
      ]
    },
    {
      "cell_type": "code",
      "metadata": {
        "colab": {
          "base_uri": "https://localhost:8080/"
        },
        "id": "E_U7LqxGErax",
        "outputId": "9448ec49-e229-458e-d51e-95cbc4f88d06"
      },
      "source": [
        "# 모델 예측 정확도 출력\n",
        "print(\"accuracy: %.2f\" %(accuracy_score(test_y, predictions) * 100) + \"%\")"
      ],
      "execution_count": null,
      "outputs": [
        {
          "output_type": "stream",
          "text": [
            "accuracy: 83.33%\n"
          ],
          "name": "stdout"
        }
      ]
    }
  ]
}