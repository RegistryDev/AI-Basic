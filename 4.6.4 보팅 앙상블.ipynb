{
  "nbformat": 4,
  "nbformat_minor": 0,
  "metadata": {
    "colab": {
      "name": "4.6.4 보팅 앙상블.ipynb",
      "provenance": [],
      "collapsed_sections": [],
      "toc_visible": true,
      "authorship_tag": "ABX9TyPM8Em+GBU93Xjyp4l7EoiW",
      "include_colab_link": true
    },
    "kernelspec": {
      "name": "python3",
      "display_name": "Python 3"
    },
    "language_info": {
      "name": "python"
    }
  },
  "cells": [
    {
      "cell_type": "markdown",
      "metadata": {
        "id": "view-in-github",
        "colab_type": "text"
      },
      "source": [
        "<a href=\"https://colab.research.google.com/github/RegistryDev/AI-Basic/blob/master/4.6.4%20%EB%B3%B4%ED%8C%85%20%EC%95%99%EC%83%81%EB%B8%94.ipynb\" target=\"_parent\"><img src=\"https://colab.research.google.com/assets/colab-badge.svg\" alt=\"Open In Colab\"/></a>"
      ]
    },
    {
      "cell_type": "markdown",
      "metadata": {
        "id": "qMVZLUbDZ7Iw"
      },
      "source": [
        "# 4.6.4 보팅 앙상블 손글씨 분류"
      ]
    },
    {
      "cell_type": "markdown",
      "metadata": {
        "id": "zW9Rg-oSZ8yU"
      },
      "source": [
        "### KNN, SVM 의사결정트리의 3가지 모델을 앙상블하여 더 나은 예측 실행하기\n",
        "##### \"배깅(Bagging) + 부트스트랩(Bootstrap) + 어그리게이팅(Aggregating)\" 중에서 어그리게이팅만 실행하는 예제"
      ]
    },
    {
      "cell_type": "code",
      "metadata": {
        "id": "_M1xkO8SaGq2"
      },
      "source": [
        "from sklearn import datasets                                                    # sklearn에서 제공하는 \"간략화 버전(8x8)\"의 MNIST 손글씨 데이터 사용\n",
        "from sklearn import tree                                                        # 의사결정트리 실행\n",
        "from sklearn.neighbors import KNeighborsClassifier                              # KNN 실행\n",
        "from sklearn.svm import SVC                                                     # SVM 실행\n",
        "from sklearn.ensemble import VotingClassifier                                   # Voting 실행\n",
        "from sklearn.model_selection import train_test_split\n",
        "from sklearn.metrics import accuracy_score"
      ],
      "execution_count": null,
      "outputs": []
    },
    {
      "cell_type": "markdown",
      "metadata": {
        "id": "ovUQC4sybkUD"
      },
      "source": [
        "### 손글씨 데이터 불러오기"
      ]
    },
    {
      "cell_type": "code",
      "metadata": {
        "id": "OdJ_M4Tvbn4C"
      },
      "source": [
        "mnist = datasets.load_digits()                                                  # sklearn의 mnist 손글씨(숫자) 데이터 불러오기\n",
        "features, labels = mnist.data, mnist.target                                     # 학습 데이터의 레이블 데이터 분리\n",
        "\n",
        "# ⭐ 학습데이터(80%)와 테스트 데이터(20%)로 분리 ⭐\n",
        "X_train,X_test,y_train,y_test=train_test_split(features,labels,test_size=0.2)   # 총 숫자 개수: 1,797개 → 학습 데이터 1,438개 테스트 데이터 359개"
      ],
      "execution_count": null,
      "outputs": []
    },
    {
      "cell_type": "markdown",
      "metadata": {
        "id": "GBM39V7_crxs"
      },
      "source": [
        "### 단일 모델의 정확도 측정"
      ]
    },
    {
      "cell_type": "code",
      "metadata": {
        "colab": {
          "base_uri": "https://localhost:8080/"
        },
        "id": "QZJuJwb6cvZW",
        "outputId": "b534083f-7a39-4680-b080-0394a8591f04"
      },
      "source": [
        "# 의사결정트리 학습 및 테스트\n",
        "dtree = tree.DecisionTreeClassifier(                                            \n",
        "    criterion=\"gini\", \n",
        "    max_depth=8,                                                                # 트리의 최대 길이\n",
        "    max_features=32,                                                            # 분류 때 사용하는 특징 최대 수\n",
        "    random_state=35\n",
        ")\n",
        "\n",
        "dtree = dtree.fit(X_train, y_train)                                             \n",
        "dtree_predicted = dtree.predict(X_test)\n",
        "\n",
        "# KNN 학습 및 테스트\n",
        "knn = KNeighborsClassifier(n_neighbors=299).fit(X_train, y_train)               # 주변 299명에게 물어보겠다?? but 5로 하면 정확도 ↑\n",
        "knn_predicted = knn.predict(X_test)\n",
        "\n",
        "# SVM 학습 및 테스트\n",
        "svm = SVC(                                                                      \n",
        "    C=0.1, \n",
        "    gamma=0.003,\n",
        "    probability=True,                                                           # probability: 확률 계산을 수행할지 여부. 하드/소프트 보팅을 수행하기위해 True.\n",
        "    random_state=35                                                             # 랜덤 seed 값은 정확한 비교를 위해 의사결정트리와 동일한 값으로\n",
        ").fit(X_train, y_train)\n",
        "\n",
        "svm_predicted = svm.predict(X_test)\n",
        "\n",
        "print(\"[정확도]\")\n",
        "print(\"의사결정트리: %.2f\" %(accuracy_score(y_test, dtree_predicted) * 100) + \"%\")\n",
        "print(\"KNN: %.2f\" %(accuracy_score(y_test, knn_predicted) * 100) + \"%\")\n",
        "print(\"SVM: %.2f\" %(accuracy_score(y_test, svm_predicted) * 100) + \"%\")"
      ],
      "execution_count": null,
      "outputs": [
        {
          "output_type": "stream",
          "text": [
            "[정확도]\n",
            "의사결정트리: 83.89%\n",
            "KNN: 85.28%\n",
            "SVM: 88.61%\n"
          ],
          "name": "stdout"
        }
      ]
    },
    {
      "cell_type": "code",
      "metadata": {
        "colab": {
          "base_uri": "https://localhost:8080/"
        },
        "id": "JOyIXeKHipVz",
        "outputId": "99d885c5-0b78-4f02-8dc1-29892f455591"
      },
      "source": [
        "# sklearn의 VotingClassifier를 사용하지 않고 SVM의 직접 분류값별 확률 확인해 보기\n",
        "svm_proba = svm.predict_proba(X_test)\n",
        "print(svm_proba[0:2])                                                           # 테스트 데이터 첫 번째부터 2개까지만 출력"
      ],
      "execution_count": null,
      "outputs": [
        {
          "output_type": "stream",
          "text": [
            "[[0.00110701 0.0017646  0.97558422 0.00105826 0.00106376 0.00559379\n",
            "  0.00132846 0.00134568 0.00912157 0.00203265]\n",
            " [0.00945942 0.03186571 0.02945165 0.01856472 0.0228758  0.66038613\n",
            "  0.01436651 0.02667785 0.14506628 0.04128592]]\n"
          ],
          "name": "stdout"
        }
      ]
    },
    {
      "cell_type": "markdown",
      "metadata": {
        "id": "OEXePLUfoMPG"
      },
      "source": [
        "### 하드 보팅"
      ]
    },
    {
      "cell_type": "code",
      "metadata": {
        "colab": {
          "base_uri": "https://localhost:8080/"
        },
        "id": "oHx-VjPPoOkx",
        "outputId": "c00da3f1-3bc2-4e91-8026-e0fc731cced1"
      },
      "source": [
        "# 학습 데이터에 대해 학습 실행\n",
        "voting_clf = VotingClassifier(\n",
        "    estimators=[\n",
        "        ('decision_tree', dtree), \n",
        "        ('knn', knn), \n",
        "        ('svm', svm)\n",
        "    ], \n",
        "    weights=[1,1,1], \n",
        "    voting='hard'\n",
        ").fit(X_train, y_train)\n",
        "\n",
        "# 테스트 데이터에 대한 예측 실행\n",
        "hard_voting_predicted = voting_clf.predict(X_test)\n",
        "print(\"하드 보팅: %.2f\" %(accuracy_score(y_test, hard_voting_predicted) * 100) + \"%\")"
      ],
      "execution_count": null,
      "outputs": [
        {
          "output_type": "stream",
          "text": [
            "하드 보팅: 90.83%\n"
          ],
          "name": "stdout"
        }
      ]
    },
    {
      "cell_type": "markdown",
      "metadata": {
        "id": "dqX41mABo4Nv"
      },
      "source": [
        "### 소프트 보팅"
      ]
    },
    {
      "cell_type": "code",
      "metadata": {
        "colab": {
          "base_uri": "https://localhost:8080/"
        },
        "id": "g4LNUQjvo7ps",
        "outputId": "67a8f8f4-c470-4a0e-f964-a4c755b4f5e3"
      },
      "source": [
        "# 학습 데이터에 대해 학습 실행\n",
        "voting_clf = VotingClassifier(\n",
        "    estimators=[\n",
        "        ('decision_tree', dtree), \n",
        "        ('knn', knn), \n",
        "        ('svm', svm)\n",
        "    ], \n",
        "    weights=[1,1,1], \n",
        "    voting='soft'\n",
        ").fit(X_train, y_train)\n",
        "\n",
        "# 테스트 데이터에 대한 예측 실행\n",
        "soft_voting_predicted = voting_clf.predict(X_test)\n",
        "print(\"소프트 보팅: %.2f\" %(accuracy_score(y_test, soft_voting_predicted) * 100) + \"%\")"
      ],
      "execution_count": null,
      "outputs": [
        {
          "output_type": "stream",
          "text": [
            "소프트 보팅: 90.56%\n"
          ],
          "name": "stdout"
        }
      ]
    },
    {
      "cell_type": "markdown",
      "metadata": {
        "id": "8Yc52dyfq101"
      },
      "source": [
        "### 정확도 비교 시각화"
      ]
    },
    {
      "cell_type": "code",
      "metadata": {
        "colab": {
          "base_uri": "https://localhost:8080/",
          "height": 265
        },
        "id": "E8g4Oixfq5Dq",
        "outputId": "483f2746-c6d2-4451-8202-2c949be2fbd8"
      },
      "source": [
        "import matplotlib.pyplot as plt\n",
        "import numpy as np\n",
        "%matplotlib inline\n",
        "\n",
        "x = np.arange(5)                                                                # 0부터 5개의 숫자들을 array 형태로 반환. 즉, [0, 1, 2, 3, 4]\n",
        "plt.bar(\n",
        "    x, \n",
        "    height = [\n",
        "        accuracy_score(y_test, dtree_predicted),\n",
        "        accuracy_score(y_test, knn_predicted),\n",
        "        accuracy_score(y_test, svm_predicted),\n",
        "        accuracy_score(y_test, hard_voting_predicted),\n",
        "        accuracy_score(y_test, soft_voting_predicted)\n",
        "    ]\n",
        ")\n",
        "plt.xticks(x, ['Decision Tree','KNN','SVM','Hard Voting','Soft Voting']);"
      ],
      "execution_count": null,
      "outputs": [
        {
          "output_type": "display_data",
          "data": {
            "image/png": "[encoded data removed]",
            "text/plain": [
              "<Figure size 432x288 with 1 Axes>"
            ]
          },
          "metadata": {
            "tags": [],
            "needs_background": "light"
          }
        }
      ]
    }
  ]
}