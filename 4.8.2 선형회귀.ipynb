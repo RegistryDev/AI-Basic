{
  "nbformat": 4,
  "nbformat_minor": 0,
  "metadata": {
    "colab": {
      "name": "4.8.2 선형회귀.ipynb",
      "provenance": [],
      "collapsed_sections": [],
      "mount_file_id": "1iNVw6b8YTJWMN5gt8KH9uQHCpAU9xgUm",
      "authorship_tag": "ABX9TyNYruBpM9FjXPbNQF3GG5uw",
      "include_colab_link": true
    },
    "kernelspec": {
      "name": "python3",
      "display_name": "Python 3"
    },
    "language_info": {
      "name": "python"
    },
    "accelerator": "TPU"
  },
  "cells": [
    {
      "cell_type": "markdown",
      "metadata": {
        "id": "view-in-github",
        "colab_type": "text"
      },
      "source": [
        "<a href=\"https://colab.research.google.com/github/RegistryDev/AI-Basic/blob/master/4.8.2%20%EC%84%A0%ED%98%95%ED%9A%8C%EA%B7%80.ipynb\" target=\"_parent\"><img src=\"https://colab.research.google.com/assets/colab-badge.svg\" alt=\"Open In Colab\"/></a>"
      ]
    },
    {
      "cell_type": "markdown",
      "metadata": {
        "id": "K_Xzzqpwsu0R"
      },
      "source": [
        "# 4.8.2 선형회귀\n",
        "### y=wx 형태의 선형회귀를 keras로 구현하기"
      ]
    },
    {
      "cell_type": "markdown",
      "metadata": {
        "id": "TrekOP3jtEVO"
      },
      "source": [
        "### 라이브러리 임포트"
      ]
    },
    {
      "cell_type": "code",
      "metadata": {
        "id": "-8893GS1soNR"
      },
      "source": [
        "from keras import optimizers\n",
        "from keras.models import Sequential\n",
        "from keras.layers import Dense\n",
        "import numpy as np\n",
        "import matplotlib.pyplot as plt\n",
        "%matplotlib inline"
      ],
      "execution_count": null,
      "outputs": []
    },
    {
      "cell_type": "markdown",
      "metadata": {
        "id": "BY-4eJarttj9"
      },
      "source": [
        "### 데이터 만들기"
      ]
    },
    {
      "cell_type": "code",
      "metadata": {
        "id": "JPHWurSdtwX1"
      },
      "source": [
        "# 0 부터 10 까지 총 11개이지만, 10개의 X값 만들기임.\n",
        "X = np.linspace(0, 10, 10)                                                      # 왼쪽 함수 이름이 line이 아니라 lin(시작, 끝, 개수)임.\n",
        "Y = X + np.random.randn(len(X))                                                 # 교재의 *X.shape보다 len(X)가 쓰기 더 편함. len(X)=10\n",
        "                                                                                # np.random.randn(a): 표준정규분포(평균=0, 분산=1)를 사용하여 a개의 random 값 뽑아내기.\n",
        "                                                                                # 만약 (a)의 a가 1이면 random 값을 추출하여 현재 X가 10개이므로 10개에 똑같이 더해줌.\n",
        "                                                                                # 지금과 같이 a가 10이면 10개의 random 값을 추출하고, 10개의 X에 각각 더해주게됨."
      ],
      "execution_count": null,
      "outputs": []
    },
    {
      "cell_type": "markdown",
      "metadata": {
        "id": "WZNQM0acmXpE"
      },
      "source": [
        "### 데이터 조회"
      ]
    },
    {
      "cell_type": "code",
      "metadata": {
        "colab": {
          "base_uri": "https://localhost:8080/"
        },
        "id": "avuUtvLBmZdw",
        "outputId": "0442151e-fb86-466c-f08f-2a3d3b850735"
      },
      "source": [
        "for x, y in zip(X, Y):                                                          # zip(X, Y) : X와 Y의 각 값들을 순서에 맞춰서 튜플 항 (0, 0)으로 변환.\n",
        "    print((round(x, 1), round(y, 1)))                                           # round(x, 1) : x값을 소수점 첫째 자리로 반올림."
      ],
      "execution_count": null,
      "outputs": [
        {
          "output_type": "stream",
          "text": [
            "(0.0, 0.8)\n",
            "(1.1, 2.3)\n",
            "(2.2, 3.4)\n",
            "(3.3, 3.7)\n",
            "(4.4, 3.9)\n",
            "(5.6, 5.5)\n",
            "(6.7, 6.9)\n",
            "(7.8, 8.1)\n",
            "(8.9, 7.5)\n",
            "(10.0, 9.2)\n"
          ],
          "name": "stdout"
        }
      ]
    },
    {
      "cell_type": "markdown",
      "metadata": {
        "id": "E8OspmAXnICG"
      },
      "source": [
        "### 선형회귀 모델 만들기"
      ]
    },
    {
      "cell_type": "code",
      "metadata": {
        "colab": {
          "base_uri": "https://localhost:8080/"
        },
        "id": "OLQ5GotpnLZg",
        "outputId": "ea00841a-2776-47c6-9c84-a2d28bd503f8"
      },
      "source": [
        "model = Sequential()                                                            # keras의 선형회귀 모델 사용\n",
        "model.add(\n",
        "    Dense(\n",
        "        input_dim = 1,                                                          # 입력자원 수\n",
        "        units = 1,                                                              # 출력(예측)값 수\n",
        "        activation = \"linear\",                                                  # 선형성 유지\n",
        "        use_bias = False                                                        # y = wx + b(바이어스)의 형태에서 b가 없으므로 False\n",
        "    )\n",
        ")\n",
        "\n",
        "# SGD(Stochastic Gradient Descent, 확률경사하강) optimizer 실행\n",
        "sgd = optimizers.SGD(lr = 0.05)                                                 # 학습률(learning_late) : 너무 낮으면 학습 속도 느림. 너무 크면 학습이 제대로 수행되지 X.\n",
        "model.compile(optimizer = 'sgd', loss = 'mse')                                  # .compile: keras 모델 설정. optimizer: 옵티마이저(나중에 배움), loss: 손실함수"
      ],
      "execution_count": null,
      "outputs": [
        {
          "output_type": "stream",
          "text": [
            "/usr/local/lib/python3.7/dist-packages/tensorflow/python/keras/optimizer_v2/optimizer_v2.py:375: UserWarning: The `lr` argument is deprecated, use `learning_rate` instead.\n",
            "  \"The `lr` argument is deprecated, use `learning_rate` instead.\")\n"
          ],
          "name": "stderr"
        }
      ]
    },
    {
      "cell_type": "code",
      "metadata": {
        "colab": {
          "base_uri": "https://localhost:8080/"
        },
        "id": "av2uyiZpu9Qw",
        "outputId": "8a88a9e6-41cf-470a-a768-00e9bea4e93f"
      },
      "source": [
        "# 학습 전 최초 무작위로 설정된 가중치(weight) w값(여기서는 기울기) 조회\n",
        "weights = model.layers[0].get_weights()                                         # layer(0)에 저장된 weight(가중치) 값들을 weights 리스트에 저장\n",
        "w = weights[0][0][0]                                                            # 3중 리스트의 첫 번째 값이란 뜻. 첫 번째 layer의 첫 번째 weight 값과 동일.\n",
        "\n",
        "print('최초 무작위 설정 가중치 w 값: %f' %w)                                    # 직접 수치 값 출력"
      ],
      "execution_count": null,
      "outputs": [
        {
          "output_type": "stream",
          "text": [
            "최초 무작위 설정 가중치 w 값: -1.337168\n"
          ],
          "name": "stdout"
        }
      ]
    },
    {
      "cell_type": "markdown",
      "metadata": {
        "id": "TTVZAG4VvAEw"
      },
      "source": [
        "### 선형회귀 모델 학습"
      ]
    },
    {
      "cell_type": "code",
      "metadata": {
        "colab": {
          "base_uri": "https://localhost:8080/"
        },
        "id": "FWjMzS6evC0u",
        "outputId": "f0f80003-f851-4d5d-a174-218286304e77"
      },
      "source": [
        "model.fit(\n",
        "    X,                                                                          # 입력\n",
        "    Y,                                                                          # 정답\n",
        "    batch_size = 10,                                                            # 데이터 개수\n",
        "    epochs = 10,                                                                # 반복학습 회수\n",
        "    verbose = 1                                                                 # =0: 아무 것도 출력하지 않음, =2: epoch당 시간(초)와 loss 값만 출력\n",
        ")"
      ],
      "execution_count": null,
      "outputs": [
        {
          "output_type": "stream",
          "text": [
            "Epoch 1/10\n",
            "1/1 [==============================] - 13s 13s/step - loss: 186.1242\n",
            "Epoch 2/10\n",
            "1/1 [==============================] - 0s 7ms/step - loss: 16.9172\n",
            "Epoch 3/10\n",
            "1/1 [==============================] - 0s 8ms/step - loss: 2.0623\n",
            "Epoch 4/10\n",
            "1/1 [==============================] - 0s 8ms/step - loss: 0.7581\n",
            "Epoch 5/10\n",
            "1/1 [==============================] - 0s 8ms/step - loss: 0.6436\n",
            "Epoch 6/10\n",
            "1/1 [==============================] - 0s 8ms/step - loss: 0.6336\n",
            "Epoch 7/10\n",
            "1/1 [==============================] - 0s 6ms/step - loss: 0.6327\n",
            "Epoch 8/10\n",
            "1/1 [==============================] - 0s 8ms/step - loss: 0.6326\n",
            "Epoch 9/10\n",
            "1/1 [==============================] - 0s 3ms/step - loss: 0.6326\n",
            "Epoch 10/10\n",
            "1/1 [==============================] - 0s 3ms/step - loss: 0.6326\n"
          ],
          "name": "stdout"
        },
        {
          "output_type": "execute_result",
          "data": {
            "text/plain": [
              "<keras.callbacks.History at 0x7fbad866e850>"
            ]
          },
          "metadata": {
            "tags": []
          },
          "execution_count": 6
        }
      ]
    },
    {
      "cell_type": "code",
      "metadata": {
        "colab": {
          "base_uri": "https://localhost:8080/"
        },
        "id": "0Jjz-v5_x5eX",
        "outputId": "eef2ce4e-0a15-4b88-dbd6-b08e0fe596a4"
      },
      "source": [
        "# 학습 완료 후, 학습된 선형회귀 모델의 가중치 w값(여기서는 기울기) 조회\n",
        "weights = model.layers[0].get_weights()\n",
        "w = weights[0][0][0]\n",
        "\n",
        "print('학습된 선형회귀 모델 가중치 w 값: %f' %w) "
      ],
      "execution_count": null,
      "outputs": [
        {
          "output_type": "stream",
          "text": [
            "학습된 선형회귀 모델 가중치 w 값: 0.958874\n"
          ],
          "name": "stdout"
        }
      ]
    },
    {
      "cell_type": "markdown",
      "metadata": {
        "id": "sOjk3Bnuya67"
      },
      "source": [
        "### 선형회귀 시각화"
      ]
    },
    {
      "cell_type": "code",
      "metadata": {
        "colab": {
          "base_uri": "https://localhost:8080/",
          "height": 268
        },
        "id": "I4fucc08yexu",
        "outputId": "9a134560-869f-4d50-e17f-38ae4f93726c"
      },
      "source": [
        "plt.scatter(X, Y, label = 'data', color = 'blue')                               # X와 Y 위치에 파란 점 찍기, 이 점들의 명칭을 data로 함.\n",
        "plt.plot(X, w * X, label = 'prediction', color = 'red')                         # X와 w * Y 위치에 점을 찍은 후 이들을 빨간선으로 연결하기, 빨간선의 명칭을 prediction으로 함.\n",
        "plt.legend()                                                                    # 범례(명칭) 표시\n",
        "plt.show()"
      ],
      "execution_count": null,
      "outputs": [
        {
          "output_type": "display_data",
          "data": {
            "image/png": "[encoded data removed]",
            "text/plain": [
              "<Figure size 432x288 with 1 Axes>"
            ]
          },
          "metadata": {
            "tags": [],
            "needs_background": "light"
          }
        }
      ]
    }
  ]
}