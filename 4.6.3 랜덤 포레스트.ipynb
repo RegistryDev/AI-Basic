{
  "nbformat": 4,
  "nbformat_minor": 0,
  "metadata": {
    "colab": {
      "name": "4.6.3 랜덤 포레스트.ipynb",
      "provenance": [],
      "collapsed_sections": [],
      "include_colab_link": true
    },
    "kernelspec": {
      "name": "python3",
      "display_name": "Python 3"
    },
    "language_info": {
      "name": "python"
    }
  },
  "cells": [
    {
      "cell_type": "markdown",
      "metadata": {
        "id": "view-in-github",
        "colab_type": "text"
      },
      "source": [
        "<a href=\"https://colab.research.google.com/github/RegistryDev/AI-Basic/blob/master/4.6.3%20%EB%9E%9C%EB%8D%A4%20%ED%8F%AC%EB%A0%88%EC%8A%A4%ED%8A%B8.ipynb\" target=\"_parent\"><img src=\"https://colab.research.google.com/assets/colab-badge.svg\" alt=\"Open In Colab\"/></a>"
      ]
    },
    {
      "cell_type": "markdown",
      "metadata": {
        "id": "pvHDiRtvizEw"
      },
      "source": [
        "#4.6.3 랜덤 포레스트와 의사결정트리 손글씨 분류 비교"
      ]
    },
    {
      "cell_type": "markdown",
      "metadata": {
        "id": "o7iLtfv3jAv4"
      },
      "source": [
        "### 실습 관련 모듈(라이브러리) 임포트"
      ]
    },
    {
      "cell_type": "code",
      "metadata": {
        "id": "kghubecDisY3"
      },
      "source": [
        "# sklearn에서 제공하는 \"간략화 버전(8x8)\"의 MNIST 손글씨 데이터 사용\n",
        "from sklearn import datasets\n",
        "# (참고) keras 제공의 원본 MNIST 손글씨 데이터는 28x28 크기의 6만장 -> 4.9.4에서 사용.\n",
        "\n",
        "from sklearn import tree                                                        # 의사결정트리 실행 함수\n",
        "from sklearn.ensemble import RandomForestClassifier                             # 랜덤 포레스트 실행 함수\n",
        "from sklearn.model_selection import cross_val_score                             # k 폴드 교차 검증\n",
        "import matplotlib.pyplot as plt\n",
        "import pandas as pd\n",
        "import numpy as np"
      ],
      "execution_count": null,
      "outputs": []
    },
    {
      "cell_type": "markdown",
      "metadata": {
        "id": "mU2UL0VMnn5U"
      },
      "source": [
        "### 손글씨 데이터 불러오기"
      ]
    },
    {
      "cell_type": "code",
      "metadata": {
        "colab": {
          "base_uri": "https://localhost:8080/",
          "height": 474
        },
        "id": "kfMOGTs2nuvk",
        "outputId": "61658ce5-dbc6-4e0c-be31-e42d5b778db9"
      },
      "source": [
        "# sklearn의 간략화 버전 MNIST 손글씨(숫자) 데이터 불러오기\n",
        "mnist = datasets.load_digits()\n",
        "# 학습 데이터와 레이블 데이터 분리. mnist.data -> features, mnist.target -> labels\n",
        "features, labels = mnist.data, mnist.target\n",
        "\n",
        "# (참고) 이 프로그램에서는 테스트 데이터는 만들지 않고, 전체를 학습 데이터로 사용한 후,\n",
        "# 학습 결과 정확도만 보고자 함.\n",
        "\n",
        "print(\"학습 데이터 특징 수: %d\" %features.size)\n",
        "# features.size / 64(=8x8) = labels.size(총 숫자 수). 계산하면 총 1,797장임.\n",
        "print(\"출력 레이블 수: %d\" %labels.size)\n",
        "print(\"첫 번째 학습 데이터 특징:\")\n",
        "features0 = features[0].reshape(8, 8)\n",
        "print(features0) # 첫 번째 학습 데이터 값 64개 출력\n",
        "\n",
        "#MNIST 숫자 데이터 출력 (처음 5개만)\n",
        "print(\"\\n처음 5개 레이블 : \", end = '')                                           # end=''를 작성하면 다음 줄로 넘어가지 않음.\n",
        "fig = plt.figure(figsize=(20,4))\n",
        "for i in range(5):\n",
        "    arr = np.array(features[i])\n",
        "    arr.shape = (8, 8)\n",
        "    ax = fig.add_subplot(1, 5, i + 1)                                           # (가로, 세로, 해당 subplot 번호)위치에 그림 그리기\n",
        "    print(labels[i], end = '')                                                    # 출력 레이블 출력\n",
        "    ax.imshow(arr)                                                              # 그림 출력"
      ],
      "execution_count": null,
      "outputs": [
        {
          "output_type": "stream",
          "text": [
            "학습 데이터 특징 수: 115008\n",
            "출력 레이블 수: 1797\n",
            "첫 번째 학습 데이터 특징:\n",
            "[[ 0.  0.  5. 13.  9.  1.  0.  0.]\n",
            " [ 0.  0. 13. 15. 10. 15.  5.  0.]\n",
            " [ 0.  3. 15.  2.  0. 11.  8.  0.]\n",
            " [ 0.  4. 12.  0.  0.  8.  8.  0.]\n",
            " [ 0.  5.  8.  0.  0.  9.  8.  0.]\n",
            " [ 0.  4. 11.  0.  1. 12.  7.  0.]\n",
            " [ 0.  2. 14.  5. 10. 12.  0.  0.]\n",
            " [ 0.  0.  6. 13. 10.  0.  0.  0.]]\n",
            "\n",
            "처음 5개 레이블 : 01234"
          ],
          "name": "stdout"
        },
        {
          "output_type": "display_data",
          "data": {
            "image/png": "[encoded data removed]",
            "text/plain": [
              "<Figure size 1440x288 with 5 Axes>"
            ]
          },
          "metadata": {
            "tags": [],
            "needs_background": "light"
          }
        }
      ]
    },
    {
      "cell_type": "markdown",
      "metadata": {
        "id": "4haEaELqnwm0"
      },
      "source": [
        "### 교차 검증"
      ]
    },
    {
      "cell_type": "code",
      "metadata": {
        "id": "nJ1Gyn-l-x1y"
      },
      "source": [
        "# k-폴드 교차 검증 실행 함수 정의\n",
        "def cross_validation(classifier, features, labels):                             # (예측기, 입력, 출력)\n",
        "    cv_scores = []                                                              \n",
        "\n",
        "    for i in range(10):                                                         # 0~9까지 10번 수행. 여기서 10은 k 폴드의 k가 아니라 단순히 10번 수행해 보겠다는 것임.\n",
        "        scores = cross_val_score(\n",
        "            classifier, \n",
        "            features, \n",
        "            labels, \n",
        "            cv = 10, \n",
        "            scoring = 'accuracy'                                                  # scoring : 성능평가지표는 정확도 사용.\n",
        "        ) \n",
        "        cv_scores.append(scores.mean())                                         # cv=10 -> k 폴드 교차 검증의 k가 10.\n",
        "    \n",
        "    return cv_scores"
      ],
      "execution_count": null,
      "outputs": []
    },
    {
      "cell_type": "code",
      "metadata": {
        "id": "6o78y1Rp_5mx"
      },
      "source": [
        "# 이 셀은 실행 완료되는데 다소 시간이 소요됨.\n",
        "\n",
        "# 의사결정트리 학습 실행 후 정확도(10개) 저장\n",
        "dt_cv_scores = cross_validation(tree.DecisionTreeClassifier(), features, labels)\n",
        "# 랜덤포레스트 학습 실행 후 정확도(10개) 저장\n",
        "rf_cv_scores = cross_validation(RandomForestClassifier(), features, labels)\n",
        "# RandomForestClassifier에서 사용하는 의사결정트리의 수는 기본으로 100개(최대값)임.\n",
        "# 트리의 수를 변경하려면 RandomForestClassifier(n_estimators=트리수)로 변경 가능함.\n",
        "# 트리의 수는 최소10~최대 100까지 가능함."
      ],
      "execution_count": null,
      "outputs": []
    },
    {
      "cell_type": "markdown",
      "metadata": {
        "id": "Tgr82bKfDGXJ"
      },
      "source": [
        "### 랜덤 포레스트 VS 의사결정트리 시각화"
      ]
    },
    {
      "cell_type": "code",
      "metadata": {
        "colab": {
          "base_uri": "https://localhost:8080/",
          "height": 149
        },
        "id": "6JbSbOy8DLGi",
        "outputId": "ecaf9137-2a40-4a7d-c9f5-446b7c9f69e0"
      },
      "source": [
        "cv_list = [['random_forest', rf_cv_scores], ['decision_tree', dt_cv_scores]]\n",
        "print(cv_list)\n",
        "df = pd.DataFrame(cv_list)\n",
        "df\n",
        "#아래처럼 데이터 프레임이 표시되어 cv_list를 사용해서는 그래프로 그릴 수 없는 상태임을 알 수 있음."
      ],
      "execution_count": null,
      "outputs": [
        {
          "output_type": "stream",
          "text": [
            "[['random_forest', [0.9521322160148975, 0.9504686530105524, 0.9543606455617628, 0.9499068901303538, 0.9493544382371197, 0.9454531346989447, 0.9504748603351955, 0.9460055865921786, 0.94768156424581, 0.9487957790192425]], ['decision_tree', [0.8308100558659218, 0.8185474860335196, 0.8247206703910616, 0.8252607076350094, 0.8207759155803849, 0.8202482929857231, 0.8324736188702669, 0.8291309745499689, 0.8252389819987584, 0.8258100558659217]]]\n"
          ],
          "name": "stdout"
        },
        {
          "output_type": "execute_result",
          "data": {
            "text/html": [
              "<div>\n",
              "<style scoped>\n",
              "    .dataframe tbody tr th:only-of-type {\n",
              "        vertical-align: middle;\n",
              "    }\n",
              "\n",
              "    .dataframe tbody tr th {\n",
              "        vertical-align: top;\n",
              "    }\n",
              "\n",
              "    .dataframe thead th {\n",
              "        text-align: right;\n",
              "    }\n",
              "</style>\n",
              "<table border=\"1\" class=\"dataframe\">\n",
              "  <thead>\n",
              "    <tr style=\"text-align: right;\">\n",
              "      <th></th>\n",
              "      <th>0</th>\n",
              "      <th>1</th>\n",
              "    </tr>\n",
              "  </thead>\n",
              "  <tbody>\n",
              "    <tr>\n",
              "      <th>0</th>\n",
              "      <td>random_forest</td>\n",
              "      <td>[0.9521322160148975, 0.9504686530105524, 0.954...</td>\n",
              "    </tr>\n",
              "    <tr>\n",
              "      <th>1</th>\n",
              "      <td>decision_tree</td>\n",
              "      <td>[0.8308100558659218, 0.8185474860335196, 0.824...</td>\n",
              "    </tr>\n",
              "  </tbody>\n",
              "</table>\n",
              "</div>"
            ],
            "text/plain": [
              "               0                                                  1\n",
              "0  random_forest  [0.9521322160148975, 0.9504686530105524, 0.954...\n",
              "1  decision_tree  [0.8308100558659218, 0.8185474860335196, 0.824..."
            ]
          },
          "metadata": {
            "tags": []
          },
          "execution_count": 5
        }
      ]
    },
    {
      "cell_type": "code",
      "metadata": {
        "colab": {
          "base_uri": "https://localhost:8080/",
          "height": 397
        },
        "id": "7ao3MLCXENMe",
        "outputId": "f76fc021-a6ed-4029-f43f-23a8021bd56e"
      },
      "source": [
        "# df = pd.DataFrame.from_items(cv_list)                                         # pandas 0.23.0 버전부터 from_items 사용 불가하여\n",
        "df = pd.DataFrame(dict(cv_list))                                                # 왼쪽과 같이 수정해서 사용해야 함.\n",
        "print(dict(cv_list))\n",
        "df"
      ],
      "execution_count": null,
      "outputs": [
        {
          "output_type": "stream",
          "text": [
            "{'random_forest': [0.9521322160148975, 0.9504686530105524, 0.9543606455617628, 0.9499068901303538, 0.9493544382371197, 0.9454531346989447, 0.9504748603351955, 0.9460055865921786, 0.94768156424581, 0.9487957790192425], 'decision_tree': [0.8308100558659218, 0.8185474860335196, 0.8247206703910616, 0.8252607076350094, 0.8207759155803849, 0.8202482929857231, 0.8324736188702669, 0.8291309745499689, 0.8252389819987584, 0.8258100558659217]}\n"
          ],
          "name": "stdout"
        },
        {
          "output_type": "execute_result",
          "data": {
            "text/html": [
              "<div>\n",
              "<style scoped>\n",
              "    .dataframe tbody tr th:only-of-type {\n",
              "        vertical-align: middle;\n",
              "    }\n",
              "\n",
              "    .dataframe tbody tr th {\n",
              "        vertical-align: top;\n",
              "    }\n",
              "\n",
              "    .dataframe thead th {\n",
              "        text-align: right;\n",
              "    }\n",
              "</style>\n",
              "<table border=\"1\" class=\"dataframe\">\n",
              "  <thead>\n",
              "    <tr style=\"text-align: right;\">\n",
              "      <th></th>\n",
              "      <th>random_forest</th>\n",
              "      <th>decision_tree</th>\n",
              "    </tr>\n",
              "  </thead>\n",
              "  <tbody>\n",
              "    <tr>\n",
              "      <th>0</th>\n",
              "      <td>0.952132</td>\n",
              "      <td>0.830810</td>\n",
              "    </tr>\n",
              "    <tr>\n",
              "      <th>1</th>\n",
              "      <td>0.950469</td>\n",
              "      <td>0.818547</td>\n",
              "    </tr>\n",
              "    <tr>\n",
              "      <th>2</th>\n",
              "      <td>0.954361</td>\n",
              "      <td>0.824721</td>\n",
              "    </tr>\n",
              "    <tr>\n",
              "      <th>3</th>\n",
              "      <td>0.949907</td>\n",
              "      <td>0.825261</td>\n",
              "    </tr>\n",
              "    <tr>\n",
              "      <th>4</th>\n",
              "      <td>0.949354</td>\n",
              "      <td>0.820776</td>\n",
              "    </tr>\n",
              "    <tr>\n",
              "      <th>5</th>\n",
              "      <td>0.945453</td>\n",
              "      <td>0.820248</td>\n",
              "    </tr>\n",
              "    <tr>\n",
              "      <th>6</th>\n",
              "      <td>0.950475</td>\n",
              "      <td>0.832474</td>\n",
              "    </tr>\n",
              "    <tr>\n",
              "      <th>7</th>\n",
              "      <td>0.946006</td>\n",
              "      <td>0.829131</td>\n",
              "    </tr>\n",
              "    <tr>\n",
              "      <th>8</th>\n",
              "      <td>0.947682</td>\n",
              "      <td>0.825239</td>\n",
              "    </tr>\n",
              "    <tr>\n",
              "      <th>9</th>\n",
              "      <td>0.948796</td>\n",
              "      <td>0.825810</td>\n",
              "    </tr>\n",
              "  </tbody>\n",
              "</table>\n",
              "</div>"
            ],
            "text/plain": [
              "   random_forest  decision_tree\n",
              "0       0.952132       0.830810\n",
              "1       0.950469       0.818547\n",
              "2       0.954361       0.824721\n",
              "3       0.949907       0.825261\n",
              "4       0.949354       0.820776\n",
              "5       0.945453       0.820248\n",
              "6       0.950475       0.832474\n",
              "7       0.946006       0.829131\n",
              "8       0.947682       0.825239\n",
              "9       0.948796       0.825810"
            ]
          },
          "metadata": {
            "tags": []
          },
          "execution_count": 6
        }
      ]
    },
    {
      "cell_type": "code",
      "metadata": {
        "colab": {
          "base_uri": "https://localhost:8080/",
          "height": 286
        },
        "id": "EcJBfzS_FD0Q",
        "outputId": "37c83069-ea1f-4544-e61f-2bbeb8daa974"
      },
      "source": [
        "df.plot()"
      ],
      "execution_count": null,
      "outputs": [
        {
          "output_type": "execute_result",
          "data": {
            "text/plain": [
              "<matplotlib.axes._subplots.AxesSubplot at 0x7f8aede1cc10>"
            ]
          },
          "metadata": {
            "tags": []
          },
          "execution_count": 7
        },
        {
          "output_type": "display_data",
          "data": {
            "image/png": "[encoded data removed]",
            "text/plain": [
              "<Figure size 432x288 with 1 Axes>"
            ]
          },
          "metadata": {
            "tags": [],
            "needs_background": "light"
          }
        }
      ]
    },
    {
      "cell_type": "code",
      "metadata": {
        "colab": {
          "base_uri": "https://localhost:8080/"
        },
        "id": "pqkf28bDFlce",
        "outputId": "89eec217-dfad-4bff-c1bb-20e7007b7198"
      },
      "source": [
        "# 의사결정트리 10번 수행한 것의 정확도 평균(학습 데이터에 대한 정확도만 계산한 것임.)\n",
        "print(\"accuracy: %.2f\" %(np.mean(dt_cv_scores) * 100) + \"%\")"
      ],
      "execution_count": null,
      "outputs": [
        {
          "output_type": "stream",
          "text": [
            "accuracy: 82.53%\n"
          ],
          "name": "stdout"
        }
      ]
    },
    {
      "cell_type": "code",
      "metadata": {
        "colab": {
          "base_uri": "https://localhost:8080/"
        },
        "id": "Psaj8VlpF8bE",
        "outputId": "25e8dfcc-203d-4a7e-84a7-ae560c8850f1"
      },
      "source": [
        "# 랜덤 포레스트 10번 수행한 것의 정확도 평균(학습 데이터에 대한 정확도만 계산한 것임.)\n",
        "print(\"accuracy: %.2f\" %(np.mean(rf_cv_scores) * 100) + \"%\")"
      ],
      "execution_count": null,
      "outputs": [
        {
          "output_type": "stream",
          "text": [
            "accuracy: 94.95%\n"
          ],
          "name": "stdout"
        }
      ]
    }
  ]
}