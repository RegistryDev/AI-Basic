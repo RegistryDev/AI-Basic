{
  "nbformat": 4,
  "nbformat_minor": 0,
  "metadata": {
    "colab": {
      "name": "4.5.4 다항분포 나이브 베이즈.ipynb",
      "provenance": [],
      "collapsed_sections": [],
      "include_colab_link": true
    },
    "kernelspec": {
      "name": "python3",
      "display_name": "Python 3"
    },
    "language_info": {
      "name": "python"
    },
    "accelerator": "TPU"
  },
  "cells": [
    {
      "cell_type": "markdown",
      "metadata": {
        "id": "view-in-github",
        "colab_type": "text"
      },
      "source": [
        "<a href=\"https://colab.research.google.com/github/RegistryDev/AI-Basic/blob/master/4.5.4%20%EB%8B%A4%ED%95%AD%EB%B6%84%ED%8F%AC%20%EB%82%98%EC%9D%B4%EB%B8%8C%20%EB%B2%A0%EC%9D%B4%EC%A6%88.ipynb\" target=\"_parent\"><img src=\"https://colab.research.google.com/assets/colab-badge.svg\" alt=\"Open In Colab\"/></a>"
      ]
    },
    {
      "cell_type": "markdown",
      "metadata": {
        "id": "OVPEQOcJ7rgM"
      },
      "source": [
        "#4.5.3 다항분포 나이브 베이즈를 활용한 영화 리뷰 분류"
      ]
    },
    {
      "cell_type": "markdown",
      "metadata": {
        "id": "Cmxgpr14WeFw"
      },
      "source": [
        "※ 영화 리뷰, 같은 단어가 여러 번 나오는지 확인 -> 다항분포 나이브 베이즈"
      ]
    },
    {
      "cell_type": "markdown",
      "metadata": {
        "id": "oTVXVe4xX99f"
      },
      "source": [
        "### 실습 관련 라이브러리 임포트"
      ]
    },
    {
      "cell_type": "code",
      "metadata": {
        "id": "RCvDmijA7zwW"
      },
      "source": [
        "import pandas as pd\n",
        "\n",
        "# 다항분포 나이브 베이즈를 위한 라이브러리를 임포트합니다\n",
        "from sklearn.feature_extraction.text import CountVectorizer\n",
        "from sklearn.naive_bayes import MultinomialNB\n",
        "\n",
        "# 모델의 정확도 평가를 위해 임포트합니다\n",
        "from sklearn.metrics import accuracy_score"
      ],
      "execution_count": null,
      "outputs": []
    },
    {
      "cell_type": "markdown",
      "metadata": {
        "id": "jsfd2L4w8DEJ"
      },
      "source": [
        "### 데이터 획득"
      ]
    },
    {
      "cell_type": "code",
      "metadata": {
        "colab": {
          "base_uri": "https://localhost:8080/",
          "height": 359
        },
        "id": "EJoe2JaC8GmZ",
        "outputId": "e1a6ec46-f8ce-4775-8baa-2dee9db092c5"
      },
      "source": [
        "review_list = [\n",
        "    {'movie_review': 'this is great great movie. I will watch again', 'type': 'positive'},\n",
        "    {'movie_review': 'I like this movie', 'type': 'positive'},\n",
        "    {'movie_review': 'amazing movie in this year', 'type': 'positive'},\n",
        "    {'movie_review': 'cool my boyfriend also said the movie is cool', 'type': 'positive'},\n",
        "    {'movie_review': 'awesome of the awesome movie ever', 'type': 'positive'},\n",
        "    {'movie_review': 'shame I wasted money and time', 'type': 'negative'},\n",
        "    {'movie_review': 'regret on this move. I will never never what movie from this director', 'type': 'negative'},\n",
        "    {'movie_review': 'I do not like this movie', 'type': 'negative'},\n",
        "    {'movie_review': 'I do not like actors in this movie', 'type': 'negative'},\n",
        "    {'movie_review': 'boring boring sleeping movie', 'type': 'negative'}\n",
        "]\n",
        "\n",
        "df = pd.DataFrame(review_list)\n",
        "df"
      ],
      "execution_count": null,
      "outputs": [
        {
          "output_type": "execute_result",
          "data": {
            "text/html": [
              "<div>\n",
              "<style scoped>\n",
              "    .dataframe tbody tr th:only-of-type {\n",
              "        vertical-align: middle;\n",
              "    }\n",
              "\n",
              "    .dataframe tbody tr th {\n",
              "        vertical-align: top;\n",
              "    }\n",
              "\n",
              "    .dataframe thead th {\n",
              "        text-align: right;\n",
              "    }\n",
              "</style>\n",
              "<table border=\"1\" class=\"dataframe\">\n",
              "  <thead>\n",
              "    <tr style=\"text-align: right;\">\n",
              "      <th></th>\n",
              "      <th>movie_review</th>\n",
              "      <th>type</th>\n",
              "    </tr>\n",
              "  </thead>\n",
              "  <tbody>\n",
              "    <tr>\n",
              "      <th>0</th>\n",
              "      <td>this is great great movie. I will watch again</td>\n",
              "      <td>positive</td>\n",
              "    </tr>\n",
              "    <tr>\n",
              "      <th>1</th>\n",
              "      <td>I like this movie</td>\n",
              "      <td>positive</td>\n",
              "    </tr>\n",
              "    <tr>\n",
              "      <th>2</th>\n",
              "      <td>amazing movie in this year</td>\n",
              "      <td>positive</td>\n",
              "    </tr>\n",
              "    <tr>\n",
              "      <th>3</th>\n",
              "      <td>cool my boyfriend also said the movie is cool</td>\n",
              "      <td>positive</td>\n",
              "    </tr>\n",
              "    <tr>\n",
              "      <th>4</th>\n",
              "      <td>awesome of the awesome movie ever</td>\n",
              "      <td>positive</td>\n",
              "    </tr>\n",
              "    <tr>\n",
              "      <th>5</th>\n",
              "      <td>shame I wasted money and time</td>\n",
              "      <td>negative</td>\n",
              "    </tr>\n",
              "    <tr>\n",
              "      <th>6</th>\n",
              "      <td>regret on this move. I will never never what m...</td>\n",
              "      <td>negative</td>\n",
              "    </tr>\n",
              "    <tr>\n",
              "      <th>7</th>\n",
              "      <td>I do not like this movie</td>\n",
              "      <td>negative</td>\n",
              "    </tr>\n",
              "    <tr>\n",
              "      <th>8</th>\n",
              "      <td>I do not like actors in this movie</td>\n",
              "      <td>negative</td>\n",
              "    </tr>\n",
              "    <tr>\n",
              "      <th>9</th>\n",
              "      <td>boring boring sleeping movie</td>\n",
              "      <td>negative</td>\n",
              "    </tr>\n",
              "  </tbody>\n",
              "</table>\n",
              "</div>"
            ],
            "text/plain": [
              "                                        movie_review      type\n",
              "0      this is great great movie. I will watch again  positive\n",
              "1                                  I like this movie  positive\n",
              "2                         amazing movie in this year  positive\n",
              "3      cool my boyfriend also said the movie is cool  positive\n",
              "4                  awesome of the awesome movie ever  positive\n",
              "5                      shame I wasted money and time  negative\n",
              "6  regret on this move. I will never never what m...  negative\n",
              "7                           I do not like this movie  negative\n",
              "8                 I do not like actors in this movie  negative\n",
              "9                       boring boring sleeping movie  negative"
            ]
          },
          "metadata": {
            "tags": []
          },
          "execution_count": 2
        }
      ]
    },
    {
      "cell_type": "markdown",
      "metadata": {
        "id": "I6tMXXDP9XCz"
      },
      "source": [
        "### 데이터 다듬기"
      ]
    },
    {
      "cell_type": "code",
      "metadata": {
        "colab": {
          "base_uri": "https://localhost:8080/",
          "height": 359
        },
        "id": "RGxCMgKc9byq",
        "outputId": "28855cb4-d33a-418d-ec67-f6107c9f9e6d"
      },
      "source": [
        "# 사이킷런의 다항분포 나이브 베이즈 분류기는 숫자만 다루기 때문에\n",
        "#먼저 출력을 숫자로 변환\n",
        "df['label'] = df['type'].map({\"positive\": 1, \"negative\": 0})\n",
        "df"
      ],
      "execution_count": null,
      "outputs": [
        {
          "output_type": "execute_result",
          "data": {
            "text/html": [
              "<div>\n",
              "<style scoped>\n",
              "    .dataframe tbody tr th:only-of-type {\n",
              "        vertical-align: middle;\n",
              "    }\n",
              "\n",
              "    .dataframe tbody tr th {\n",
              "        vertical-align: top;\n",
              "    }\n",
              "\n",
              "    .dataframe thead th {\n",
              "        text-align: right;\n",
              "    }\n",
              "</style>\n",
              "<table border=\"1\" class=\"dataframe\">\n",
              "  <thead>\n",
              "    <tr style=\"text-align: right;\">\n",
              "      <th></th>\n",
              "      <th>movie_review</th>\n",
              "      <th>type</th>\n",
              "      <th>label</th>\n",
              "    </tr>\n",
              "  </thead>\n",
              "  <tbody>\n",
              "    <tr>\n",
              "      <th>0</th>\n",
              "      <td>this is great great movie. I will watch again</td>\n",
              "      <td>positive</td>\n",
              "      <td>1</td>\n",
              "    </tr>\n",
              "    <tr>\n",
              "      <th>1</th>\n",
              "      <td>I like this movie</td>\n",
              "      <td>positive</td>\n",
              "      <td>1</td>\n",
              "    </tr>\n",
              "    <tr>\n",
              "      <th>2</th>\n",
              "      <td>amazing movie in this year</td>\n",
              "      <td>positive</td>\n",
              "      <td>1</td>\n",
              "    </tr>\n",
              "    <tr>\n",
              "      <th>3</th>\n",
              "      <td>cool my boyfriend also said the movie is cool</td>\n",
              "      <td>positive</td>\n",
              "      <td>1</td>\n",
              "    </tr>\n",
              "    <tr>\n",
              "      <th>4</th>\n",
              "      <td>awesome of the awesome movie ever</td>\n",
              "      <td>positive</td>\n",
              "      <td>1</td>\n",
              "    </tr>\n",
              "    <tr>\n",
              "      <th>5</th>\n",
              "      <td>shame I wasted money and time</td>\n",
              "      <td>negative</td>\n",
              "      <td>0</td>\n",
              "    </tr>\n",
              "    <tr>\n",
              "      <th>6</th>\n",
              "      <td>regret on this move. I will never never what m...</td>\n",
              "      <td>negative</td>\n",
              "      <td>0</td>\n",
              "    </tr>\n",
              "    <tr>\n",
              "      <th>7</th>\n",
              "      <td>I do not like this movie</td>\n",
              "      <td>negative</td>\n",
              "      <td>0</td>\n",
              "    </tr>\n",
              "    <tr>\n",
              "      <th>8</th>\n",
              "      <td>I do not like actors in this movie</td>\n",
              "      <td>negative</td>\n",
              "      <td>0</td>\n",
              "    </tr>\n",
              "    <tr>\n",
              "      <th>9</th>\n",
              "      <td>boring boring sleeping movie</td>\n",
              "      <td>negative</td>\n",
              "      <td>0</td>\n",
              "    </tr>\n",
              "  </tbody>\n",
              "</table>\n",
              "</div>"
            ],
            "text/plain": [
              "                                        movie_review      type  label\n",
              "0      this is great great movie. I will watch again  positive      1\n",
              "1                                  I like this movie  positive      1\n",
              "2                         amazing movie in this year  positive      1\n",
              "3      cool my boyfriend also said the movie is cool  positive      1\n",
              "4                  awesome of the awesome movie ever  positive      1\n",
              "5                      shame I wasted money and time  negative      0\n",
              "6  regret on this move. I will never never what m...  negative      0\n",
              "7                           I do not like this movie  negative      0\n",
              "8                 I do not like actors in this movie  negative      0\n",
              "9                       boring boring sleeping movie  negative      0"
            ]
          },
          "metadata": {
            "tags": []
          },
          "execution_count": 3
        }
      ]
    },
    {
      "cell_type": "code",
      "metadata": {
        "id": "dKC-u0gS-NnI"
      },
      "source": [
        "# 학습에 사용될 데이터와 분류값 나누기\n",
        "df_x = df[\"movie_review\"]\n",
        "df_y = df[\"label\"]"
      ],
      "execution_count": null,
      "outputs": []
    },
    {
      "cell_type": "code",
      "metadata": {
        "id": "dM1h1QAC-RtH",
        "colab": {
          "base_uri": "https://localhost:8080/"
        },
        "outputId": "25004269-ec94-4713-b089-8a8eb2242729"
      },
      "source": [
        "# 다항분포 나이브 베이즈 분류기의 입력 데이터(영화 리뷰)는 고정된 크기의 벡터이여야함.\n",
        "# 입력 데이터를 모두 고정 길이로 만들기\n",
        "cv = CountVectorizer()                                                          # ★★binary = True 가 없기 때문에 출현 횟수로 저장★★\n",
        "x_traincv = cv.fit_transform(df_x)\n",
        "\n",
        "# 전체 고정 벡터 인덱스의 단어 출력 (총 37개, 알파벳 순)출력. (한 글자 단어는 제외됨. 예.I)\n",
        "cv.get_feature_names()"
      ],
      "execution_count": null,
      "outputs": [
        {
          "output_type": "execute_result",
          "data": {
            "text/plain": [
              "['actors',\n",
              " 'again',\n",
              " 'also',\n",
              " 'amazing',\n",
              " 'and',\n",
              " 'awesome',\n",
              " 'boring',\n",
              " 'boyfriend',\n",
              " 'cool',\n",
              " 'director',\n",
              " 'do',\n",
              " 'ever',\n",
              " 'from',\n",
              " 'great',\n",
              " 'in',\n",
              " 'is',\n",
              " 'like',\n",
              " 'money',\n",
              " 'move',\n",
              " 'movie',\n",
              " 'my',\n",
              " 'never',\n",
              " 'not',\n",
              " 'of',\n",
              " 'on',\n",
              " 'regret',\n",
              " 'said',\n",
              " 'shame',\n",
              " 'sleeping',\n",
              " 'the',\n",
              " 'this',\n",
              " 'time',\n",
              " 'wasted',\n",
              " 'watch',\n",
              " 'what',\n",
              " 'will',\n",
              " 'year']"
            ]
          },
          "metadata": {
            "tags": []
          },
          "execution_count": 5
        }
      ]
    },
    {
      "cell_type": "code",
      "metadata": {
        "colab": {
          "base_uri": "https://localhost:8080/"
        },
        "id": "EPhRvFwKA_VG",
        "outputId": "ce0b1c61-33a5-46dc-ee5d-06937869a903"
      },
      "source": [
        "# 영화 감상평들의 인코딩 벡터 확인\n",
        "encoded_input = x_traincv.toarray()\n",
        "encoded_input"
      ],
      "execution_count": null,
      "outputs": [
        {
          "output_type": "execute_result",
          "data": {
            "text/plain": [
              "array([[0, 1, 0, 0, 0, 0, 0, 0, 0, 0, 0, 0, 0, 2, 0, 1, 0, 0, 0, 1, 0, 0,\n",
              "        0, 0, 0, 0, 0, 0, 0, 0, 1, 0, 0, 1, 0, 1, 0],\n",
              "       [0, 0, 0, 0, 0, 0, 0, 0, 0, 0, 0, 0, 0, 0, 0, 0, 1, 0, 0, 1, 0, 0,\n",
              "        0, 0, 0, 0, 0, 0, 0, 0, 1, 0, 0, 0, 0, 0, 0],\n",
              "       [0, 0, 0, 1, 0, 0, 0, 0, 0, 0, 0, 0, 0, 0, 1, 0, 0, 0, 0, 1, 0, 0,\n",
              "        0, 0, 0, 0, 0, 0, 0, 0, 1, 0, 0, 0, 0, 0, 1],\n",
              "       [0, 0, 1, 0, 0, 0, 0, 1, 2, 0, 0, 0, 0, 0, 0, 1, 0, 0, 0, 1, 1, 0,\n",
              "        0, 0, 0, 0, 1, 0, 0, 1, 0, 0, 0, 0, 0, 0, 0],\n",
              "       [0, 0, 0, 0, 0, 2, 0, 0, 0, 0, 0, 1, 0, 0, 0, 0, 0, 0, 0, 1, 0, 0,\n",
              "        0, 1, 0, 0, 0, 0, 0, 1, 0, 0, 0, 0, 0, 0, 0],\n",
              "       [0, 0, 0, 0, 1, 0, 0, 0, 0, 0, 0, 0, 0, 0, 0, 0, 0, 1, 0, 0, 0, 0,\n",
              "        0, 0, 0, 0, 0, 1, 0, 0, 0, 1, 1, 0, 0, 0, 0],\n",
              "       [0, 0, 0, 0, 0, 0, 0, 0, 0, 1, 0, 0, 1, 0, 0, 0, 0, 0, 1, 1, 0, 2,\n",
              "        0, 0, 1, 1, 0, 0, 0, 0, 2, 0, 0, 0, 1, 1, 0],\n",
              "       [0, 0, 0, 0, 0, 0, 0, 0, 0, 0, 1, 0, 0, 0, 0, 0, 1, 0, 0, 1, 0, 0,\n",
              "        1, 0, 0, 0, 0, 0, 0, 0, 1, 0, 0, 0, 0, 0, 0],\n",
              "       [1, 0, 0, 0, 0, 0, 0, 0, 0, 0, 1, 0, 0, 0, 1, 0, 1, 0, 0, 1, 0, 0,\n",
              "        1, 0, 0, 0, 0, 0, 0, 0, 1, 0, 0, 0, 0, 0, 0],\n",
              "       [0, 0, 0, 0, 0, 0, 2, 0, 0, 0, 0, 0, 0, 0, 0, 0, 0, 0, 0, 1, 0, 0,\n",
              "        0, 0, 0, 0, 0, 0, 1, 0, 0, 0, 0, 0, 0, 0, 0]])"
            ]
          },
          "metadata": {
            "tags": []
          },
          "execution_count": 6
        }
      ]
    },
    {
      "cell_type": "code",
      "metadata": {
        "colab": {
          "base_uri": "https://localhost:8080/"
        },
        "id": "LlZHm7grBHvz",
        "outputId": "bbec9d25-4b0a-4345-fe8a-c962d0021d5b"
      },
      "source": [
        "# 첫 번째 영화 감상평의 고정된 벡터에 포함된 단어 확인\n",
        "cv.inverse_transform(encoded_input[0])                                          # 한 글자 단어는 포함 안 됨. (예.I)"
      ],
      "execution_count": null,
      "outputs": [
        {
          "output_type": "execute_result",
          "data": {
            "text/plain": [
              "[array(['again', 'great', 'is', 'movie', 'this', 'watch', 'will'],\n",
              "       dtype='<U9')]"
            ]
          },
          "metadata": {
            "tags": []
          },
          "execution_count": 7
        }
      ]
    },
    {
      "cell_type": "markdown",
      "metadata": {
        "id": "FnvJFFvACol2"
      },
      "source": [
        "### Multinomial(다항분포) Naive Bayes 모델 학습"
      ]
    },
    {
      "cell_type": "code",
      "metadata": {
        "colab": {
          "base_uri": "https://localhost:8080/"
        },
        "id": "Pkj7pQnLC3yE",
        "outputId": "e5924380-e072-43e2-8015-6c9e539ae1ee"
      },
      "source": [
        "# 학습 데이터로 다항분포 분류기 학습\n",
        "# sklearn의 다항분포 나이브 베이즈는 스무딩을 기본 지원함\n",
        "mnb = MultinomialNB()\n",
        "mnb.fit(x_traincv,df_y)                                                         # 다항분포 분류기 학습 실행"
      ],
      "execution_count": null,
      "outputs": [
        {
          "output_type": "execute_result",
          "data": {
            "text/plain": [
              "MultinomialNB(alpha=1.0, class_prior=None, fit_prior=True)"
            ]
          },
          "metadata": {
            "tags": []
          },
          "execution_count": 8
        }
      ]
    },
    {
      "cell_type": "markdown",
      "metadata": {
        "id": "kEODMO1dDawS"
      },
      "source": [
        "### 테스트 데이터 다듬기"
      ]
    },
    {
      "cell_type": "code",
      "metadata": {
        "id": "9HGUGBkcDe2a"
      },
      "source": [
        "test_feedback_list = [\n",
        "    {'movie_review': 'great great great movie ever', 'type': 'positive'},\n",
        "    {'movie_review': 'I like this amazing movie', 'type': 'positive'},\n",
        "    {'movie_review': 'my boyfriend said great movie ever', 'type': 'positive'},\n",
        "    {'movie_review': 'cool cool cool', 'type': 'positive'},\n",
        "    {'movie_review': 'awesome boyfriend said cool movie ever', 'type': 'positive'},\n",
        "    {'movie_review': 'shame shame shame', 'type': 'negative'},\n",
        "    {'movie_review': 'awesome director shame movie boring movie', 'type': 'negative'},\n",
        "    {'movie_review': 'do not like this movie', 'type': 'negative'},\n",
        "    {'movie_review': 'I do not like this boring movie', 'type': 'negative'},\n",
        "    {'movie_review': 'aweful terrible boring movie', 'type': 'negative'}\n",
        "]\n",
        "\n",
        "test_df = pd.DataFrame(test_feedback_list)\n",
        "test_df['label'] = test_df['type'].map({\"positive\": 1, \"negative\": 0})\n",
        "test_x = test_df[\"movie_review\"]\n",
        "test_y = test_df[\"label\"]\n",
        "x_testcv = cv.transform(test_x)                                                 # 고정 크기 벡터로 변환\n",
        "                                                                                # cv.fit_transform이 아님. 상단 고정 길이 벡터 작성 시 이미 fit(단어 학습)을 했기 때문"
      ],
      "execution_count": null,
      "outputs": []
    },
    {
      "cell_type": "markdown",
      "metadata": {
        "id": "9DGgdhz5EBfj"
      },
      "source": [
        "### 테스트 진행"
      ]
    },
    {
      "cell_type": "code",
      "metadata": {
        "colab": {
          "base_uri": "https://localhost:8080/"
        },
        "id": "voj9VsKxEDcI",
        "outputId": "3ff47a0b-3be3-40f4-f56e-93e8902ac3fc"
      },
      "source": [
        "# 테스트 데이터에 대해 예측 실행\n",
        "predictions = mnb.predict(x_testcv)\n",
        "predictions"
      ],
      "execution_count": null,
      "outputs": [
        {
          "output_type": "execute_result",
          "data": {
            "text/plain": [
              "array([1, 1, 1, 1, 1, 0, 0, 0, 0, 0])"
            ]
          },
          "metadata": {
            "tags": []
          },
          "execution_count": 10
        }
      ]
    },
    {
      "cell_type": "code",
      "metadata": {
        "colab": {
          "base_uri": "https://localhost:8080/"
        },
        "id": "-6I-ESoCElfi",
        "outputId": "615be8a2-ac75-4107-e651-cc79996308dd"
      },
      "source": [
        "# 모델 예측 정확도(accuracy) 출력\n",
        "accuracy = accuracy_score(test_y,predictions)\n",
        "if accuracy == 1:\n",
        "    print(\"accuracy: 100%\")\n",
        "else:\n",
        "    print(\"accuracy: %.2f\" %(accuracy_score(test_y,predictions) * 100) + \"%\")"
      ],
      "execution_count": null,
      "outputs": [
        {
          "output_type": "stream",
          "text": [
            "accuracy: 100%\n"
          ],
          "name": "stdout"
        }
      ]
    }
  ]
}